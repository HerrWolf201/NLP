{
  "nbformat": 4,
  "nbformat_minor": 0,
  "metadata": {
    "colab": {
      "provenance": [],
      "authorship_tag": "ABX9TyN0zCL6ZcTwxFh51JvDl6iU"
    },
    "kernelspec": {
      "name": "python3",
      "display_name": "Python 3"
    },
    "language_info": {
      "name": "python"
    }
  },
  "cells": [
    {
      "cell_type": "code",
      "execution_count": null,
      "metadata": {
        "colab": {
          "base_uri": "https://localhost:8080/"
        },
        "id": "kNbguGfRM-wJ",
        "outputId": "5b87cc9f-7c50-480d-fc5a-548054f7af7f"
      },
      "outputs": [
        {
          "output_type": "stream",
          "name": "stderr",
          "text": [
            "[nltk_data] Downloading package punkt to /root/nltk_data...\n",
            "[nltk_data]   Package punkt is already up-to-date!\n",
            "[nltk_data] Downloading package punkt_tab to /root/nltk_data...\n",
            "[nltk_data]   Unzipping tokenizers/punkt_tab.zip.\n",
            "[nltk_data] Downloading package stopwords to /root/nltk_data...\n",
            "[nltk_data]   Package stopwords is already up-to-date!\n"
          ]
        },
        {
          "output_type": "execute_result",
          "data": {
            "text/plain": [
              "True"
            ]
          },
          "metadata": {},
          "execution_count": 4
        }
      ],
      "source": [
        "import nltk\n",
        "import numpy as np\n",
        "import pandas as pd\n",
        "import networkx as nx\n",
        "from sklearn.feature_extraction.text import TfidfVectorizer\n",
        "from nltk.tokenize import sent_tokenize\n",
        "from nltk.corpus import stopwords\n",
        "\n",
        "# Download necessary NLTK data\n",
        "nltk.download('punkt')\n",
        "nltk.download('punkt_tab')\n",
        "nltk.download('stopwords')"
      ]
    },
    {
      "cell_type": "code",
      "source": [
        "# Sample text (Replace this with your dataset, e.g., news articles)\n",
        "text = \"\"\"Artificial Intelligence (AI) is transforming industries by automating processes, enhancing efficiency, and enabling data-driven decision-making. Businesses leverage AI to improve customer experiences, optimize supply chains, and detect fraud. However, AI implementation comes with challenges, including ethical considerations, bias in algorithms, and data privacy concerns. Companies must address these challenges to ensure responsible AI usage. The future of AI lies in advancements in machine learning, deep learning, and reinforcement learning, paving the way for smarter automation and human-AI collaboration.\"\"\"\n"
      ],
      "metadata": {
        "id": "NpSh1uzVNSpi"
      },
      "execution_count": null,
      "outputs": []
    },
    {
      "cell_type": "code",
      "source": [
        "# Step 1: Split text into sentences\n",
        "sentences = sent_tokenize(text)\n",
        "\n",
        "for i, sentence in enumerate(sentences, start=1):\n",
        "    print(f\"Sentence {i}: {sentence}\")\n"
      ],
      "metadata": {
        "colab": {
          "base_uri": "https://localhost:8080/"
        },
        "id": "8U-AwnfENdio",
        "outputId": "7ab01ca2-5c77-42cf-85f7-2f39c9e1311e"
      },
      "execution_count": null,
      "outputs": [
        {
          "output_type": "stream",
          "name": "stdout",
          "text": [
            "Sentence 1: Artificial Intelligence (AI) is transforming industries by automating processes, enhancing efficiency, and enabling data-driven decision-making.\n",
            "Sentence 2: Businesses leverage AI to improve customer experiences, optimize supply chains, and detect fraud.\n",
            "Sentence 3: However, AI implementation comes with challenges, including ethical considerations, bias in algorithms, and data privacy concerns.\n",
            "Sentence 4: Companies must address these challenges to ensure responsible AI usage.\n",
            "Sentence 5: The future of AI lies in advancements in machine learning, deep learning, and reinforcement learning, paving the way for smarter automation and human-AI collaboration.\n"
          ]
        }
      ]
    },
    {
      "cell_type": "code",
      "source": [
        "# Step 2: Compute TF-IDF scores\n",
        "vectorizer = TfidfVectorizer(stop_words=stopwords.words('english'))\n",
        "X = vectorizer.fit_transform(sentences)\n",
        "\n",
        "# Get feature names (words)\n",
        "feature_names = vectorizer.get_feature_names_out()\n",
        "\n",
        "# Convert sparse matrix to dense matrix\n",
        "dense = X.todense()\n",
        "\n",
        "# Create a DataFrame for better visualization\n",
        "df = pd.DataFrame(dense, columns=feature_names, index=[f\"Sentence {i}\" for i in range(1, len(sentences) + 1)])\n",
        "\n",
        "# Print the DataFrame\n",
        "print(df)"
      ],
      "metadata": {
        "colab": {
          "base_uri": "https://localhost:8080/"
        },
        "id": "ImuRd9t-O7QG",
        "outputId": "71159f63-191c-492c-cc98-6786dd3e6b64"
      },
      "execution_count": null,
      "outputs": [
        {
          "output_type": "stream",
          "name": "stdout",
          "text": [
            "             address  advancements        ai  algorithms  artificial  \\\n",
            "Sentence 1  0.000000      0.000000  0.132783    0.000000    0.278661   \n",
            "Sentence 2  0.000000      0.000000  0.149002    0.000000    0.000000   \n",
            "Sentence 3  0.000000      0.000000  0.140338    0.294514    0.000000   \n",
            "Sentence 4  0.381303      0.000000  0.181693    0.000000    0.000000   \n",
            "Sentence 5  0.000000      0.213647  0.203608    0.000000    0.000000   \n",
            "\n",
            "            automating  automation      bias  businesses    chains  ...  \\\n",
            "Sentence 1    0.278661    0.000000  0.000000    0.000000  0.000000  ...   \n",
            "Sentence 2    0.000000    0.000000  0.000000    0.312698  0.312698  ...   \n",
            "Sentence 3    0.000000    0.000000  0.294514    0.000000  0.000000  ...   \n",
            "Sentence 4    0.000000    0.000000  0.000000    0.000000  0.000000  ...   \n",
            "Sentence 5    0.000000    0.213647  0.000000    0.000000  0.000000  ...   \n",
            "\n",
            "              paving   privacy  processes  reinforcement  responsible  \\\n",
            "Sentence 1  0.000000  0.000000   0.278661       0.000000     0.000000   \n",
            "Sentence 2  0.000000  0.000000   0.000000       0.000000     0.000000   \n",
            "Sentence 3  0.000000  0.294514   0.000000       0.000000     0.000000   \n",
            "Sentence 4  0.000000  0.000000   0.000000       0.000000     0.381303   \n",
            "Sentence 5  0.213647  0.000000   0.000000       0.213647     0.000000   \n",
            "\n",
            "             smarter    supply  transforming     usage       way  \n",
            "Sentence 1  0.000000  0.000000      0.278661  0.000000  0.000000  \n",
            "Sentence 2  0.000000  0.312698      0.000000  0.000000  0.000000  \n",
            "Sentence 3  0.000000  0.000000      0.000000  0.000000  0.000000  \n",
            "Sentence 4  0.000000  0.000000      0.000000  0.381303  0.000000  \n",
            "Sentence 5  0.213647  0.000000      0.000000  0.000000  0.213647  \n",
            "\n",
            "[5 rows x 54 columns]\n"
          ]
        }
      ]
    },
    {
      "cell_type": "code",
      "source": [
        "# Step 3: Build similarity matrix\n",
        "similarity_matrix = np.dot(X, X.T).toarray()\n",
        "\n",
        "# Create a DataFrame for better visualization\n",
        "df_similarity = pd.DataFrame(similarity_matrix,\n",
        "                             index=[f\"Sentence {i}\" for i in range(1, len(sentences) + 1)],\n",
        "                             columns=[f\"Sentence {i}\" for i in range(1, len(sentences) + 1)])\n",
        "\n",
        "# Print the DataFrame\n",
        "print(df_similarity)"
      ],
      "metadata": {
        "colab": {
          "base_uri": "https://localhost:8080/"
        },
        "id": "oH97fZqKQgHa",
        "outputId": "0c028b9d-d25d-4a98-8c64-65aa89c46b01"
      },
      "execution_count": null,
      "outputs": [
        {
          "output_type": "stream",
          "name": "stdout",
          "text": [
            "            Sentence 1  Sentence 2  Sentence 3  Sentence 4  Sentence 5\n",
            "Sentence 1    1.000000    0.019785    0.072055    0.024126    0.027036\n",
            "Sentence 2    0.019785    1.000000    0.020911    0.027073    0.030338\n",
            "Sentence 3    0.072055    0.020911    1.000000    0.098596    0.028574\n",
            "Sentence 4    0.024126    0.027073    0.098596    1.000000    0.036994\n",
            "Sentence 5    0.027036    0.030338    0.028574    0.036994    1.000000\n"
          ]
        }
      ]
    },
    {
      "cell_type": "code",
      "source": [
        "# Step 4: Apply TextRank algorithm\n",
        "graph = nx.from_numpy_array(similarity_matrix)\n",
        "scores = nx.pagerank(graph)\n",
        "\n",
        "# Print scores with sentence numbers\n",
        "for i, score in enumerate(scores.values(), start=1):\n",
        "    print(f\"Sentence {i}: Score = {score:.4f}\")  # Format score to 4 decimal places"
      ],
      "metadata": {
        "colab": {
          "base_uri": "https://localhost:8080/"
        },
        "id": "PbIGYrBPRMLp",
        "outputId": "2b94dfba-4ac8-471d-8c6e-8f5b306660df"
      },
      "execution_count": null,
      "outputs": [
        {
          "output_type": "stream",
          "name": "stdout",
          "text": [
            "Sentence 1: Score = 0.1984\n",
            "Sentence 2: Score = 0.1964\n",
            "Sentence 3: Score = 0.2055\n",
            "Sentence 4: Score = 0.2020\n",
            "Sentence 5: Score = 0.1977\n"
          ]
        }
      ]
    },
    {
      "cell_type": "code",
      "source": [
        "# Step 5: Rank sentences and extract the top N sentences as summary\n",
        "ranked_sentences = sorted(((scores[i], s) for i, s in enumerate(sentences)), reverse=True)\n",
        "num_sentences = max(2, len(sentences) // 3)  # Extract top third of sentences\n",
        "summary = \" \".join([ranked_sentences[i][1] for i in range(num_sentences)])\n",
        "\n",
        "print(\"\\nOriginal Text:\\n\", text)\n",
        "print(\"\\nExtracted Summary:\\n\", summary)\n"
      ],
      "metadata": {
        "colab": {
          "base_uri": "https://localhost:8080/"
        },
        "id": "1l2JlWPcR7E3",
        "outputId": "5a42e169-2c29-467f-ba6d-9be3fdb038cc"
      },
      "execution_count": null,
      "outputs": [
        {
          "output_type": "stream",
          "name": "stdout",
          "text": [
            "\n",
            "Original Text:\n",
            " Artificial Intelligence (AI) is transforming industries by automating processes, enhancing efficiency, and enabling data-driven decision-making. Businesses leverage AI to improve customer experiences, optimize supply chains, and detect fraud. However, AI implementation comes with challenges, including ethical considerations, bias in algorithms, and data privacy concerns. Companies must address these challenges to ensure responsible AI usage. The future of AI lies in advancements in machine learning, deep learning, and reinforcement learning, paving the way for smarter automation and human-AI collaboration.\n",
            "\n",
            "Extracted Summary:\n",
            " However, AI implementation comes with challenges, including ethical considerations, bias in algorithms, and data privacy concerns. Companies must address these challenges to ensure responsible AI usage.\n"
          ]
        }
      ]
    }
  ]
}