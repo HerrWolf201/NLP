{
  "nbformat": 4,
  "nbformat_minor": 0,
  "metadata": {
    "colab": {
      "provenance": [],
      "authorship_tag": "ABX9TyPIPac4nvdKfoPOTu1ZM7UW"
    },
    "kernelspec": {
      "name": "python3",
      "display_name": "Python 3"
    },
    "language_info": {
      "name": "python"
    }
  },
  "cells": [
    {
      "cell_type": "code",
      "execution_count": null,
      "metadata": {
        "colab": {
          "base_uri": "https://localhost:8080/"
        },
        "id": "uVdmi0qrtN88",
        "outputId": "0e9ed16f-d2d6-4f6b-b19e-f0803055335a"
      },
      "outputs": [
        {
          "output_type": "stream",
          "name": "stderr",
          "text": [
            "[nltk_data] Downloading package punkt to /root/nltk_data...\n",
            "[nltk_data]   Package punkt is already up-to-date!\n",
            "[nltk_data] Downloading package stopwords to /root/nltk_data...\n",
            "[nltk_data]   Package stopwords is already up-to-date!\n",
            "[nltk_data] Downloading package punkt_tab to /root/nltk_data...\n",
            "[nltk_data]   Unzipping tokenizers/punkt_tab.zip.\n"
          ]
        }
      ],
      "source": [
        "# Step 1: Importing required libraries\n",
        "\n",
        "from nltk.corpus import stopwords\n",
        "from nltk.tokenize import word_tokenize, sent_tokenize\n",
        "\n",
        "import nltk\n",
        "# Downloading necessary NLTK resources\n",
        "nltk.download('punkt')\n",
        "nltk.download('stopwords')\n",
        "nltk.download('punkt_tab')\n",
        "\n",
        "\n",
        "# Input text - to summarize\n",
        "text = \"\"\"There are many techniques available to generate extractive summarization to keep it simple, I will be using an unsupervised learning approach to find the sentences similarity and rank them. Summarization can be defined as a task of producing a concise and fluent summary while preserving key information and overall meaning. One benefit of this will be, you don’t need to train and build a model prior start using it for your project. It’s good to understand Cosine similarity to make the best use of the code you are going to see. Cosine similarity is a measure of similarity between two non-zero vectors of an inner product space that measures the cosine of the angle between them. Its measures cosine of the angle between vectors. The angle will be 0 if sentences are similar.\"\"\"\n"
      ]
    },
    {
      "cell_type": "code",
      "source": [
        "# Tokenizing the text\n",
        "stopWords = set(stopwords.words(\"english\"))\n",
        "words = word_tokenize(text)\n",
        "\n",
        "# Creating a frequency table to keep the\n",
        "# score of each word\n",
        "\n",
        "freqTable = dict()\n",
        "for word in words:\n",
        "    word = word.lower()\n",
        "    if word in stopWords:\n",
        "        continue\n",
        "    if word in freqTable:\n",
        "        freqTable[word] += 1\n",
        "    else:\n",
        "        freqTable[word] = 1\n",
        "\n",
        "  # Printing the frequency table\n",
        "print(\"Word Frequency Table:\")\n",
        "for word, count in freqTable.items():\n",
        "    print(f\"{word}: {count}\")\n",
        "\n"
      ],
      "metadata": {
        "colab": {
          "base_uri": "https://localhost:8080/"
        },
        "id": "wpWrZi0_t9Cz",
        "outputId": "b34e7e1b-4452-49a7-931e-09d8b6a797a5"
      },
      "execution_count": null,
      "outputs": [
        {
          "output_type": "stream",
          "name": "stdout",
          "text": [
            "Word Frequency Table:\n",
            "many: 1\n",
            "techniques: 1\n",
            "available: 1\n",
            "generate: 1\n",
            "extractive: 1\n",
            "summarization: 2\n",
            "keep: 1\n",
            "simple: 1\n",
            ",: 2\n",
            "using: 2\n",
            "unsupervised: 1\n",
            "learning: 1\n",
            "approach: 1\n",
            "find: 1\n",
            "sentences: 2\n",
            "similarity: 4\n",
            "rank: 1\n",
            ".: 7\n",
            "defined: 1\n",
            "task: 1\n",
            "producing: 1\n",
            "concise: 1\n",
            "fluent: 1\n",
            "summary: 1\n",
            "preserving: 1\n",
            "key: 1\n",
            "information: 1\n",
            "overall: 1\n",
            "meaning: 1\n",
            "one: 1\n",
            "benefit: 1\n",
            "’: 2\n",
            "need: 1\n",
            "train: 1\n",
            "build: 1\n",
            "model: 1\n",
            "prior: 1\n",
            "start: 1\n",
            "project: 1\n",
            "good: 1\n",
            "understand: 1\n",
            "cosine: 4\n",
            "make: 1\n",
            "best: 1\n",
            "use: 1\n",
            "code: 1\n",
            "going: 1\n",
            "see: 1\n",
            "measure: 1\n",
            "two: 1\n",
            "non-zero: 1\n",
            "vectors: 2\n",
            "inner: 1\n",
            "product: 1\n",
            "space: 1\n",
            "measures: 2\n",
            "angle: 3\n",
            "0: 1\n",
            "similar: 1\n"
          ]
        }
      ]
    },
    {
      "cell_type": "code",
      "source": [
        "# Creating a dictionary to keep the score\n",
        "# of each sentence\n",
        "sentences = sent_tokenize(text)\n",
        "sentenceValue = dict()\n",
        "\n",
        "for sentence in sentences:\n",
        "    for word, freq in freqTable.items():\n",
        "        if word in sentence.lower():\n",
        "            if sentence in sentenceValue:\n",
        "                sentenceValue[sentence] += freq\n",
        "            else:\n",
        "                sentenceValue[sentence] = freq\n",
        "\n",
        "\n",
        "# Printing the sentence value dictionary\n",
        "print(\"\\nSentence Value Dictionary:\")\n",
        "for sentence, value in sentenceValue.items():\n",
        "    print(f\"{sentence}: {value}\")\n",
        "\n",
        "\n",
        "\n",
        "sumValues = 0\n",
        "for sentence in sentenceValue:\n",
        "    sumValues += sentenceValue[sentence]\n",
        "\n",
        "print(\"\\nSum of Sentence Values:\", sumValues)"
      ],
      "metadata": {
        "colab": {
          "base_uri": "https://localhost:8080/"
        },
        "id": "0dV797bovEho",
        "outputId": "75c622df-b29f-458d-f59d-a8508b102c70"
      },
      "execution_count": null,
      "outputs": [
        {
          "output_type": "stream",
          "name": "stdout",
          "text": [
            "\n",
            "Sentence Value Dictionary:\n",
            "There are many techniques available to generate extractive summarization to keep it simple, I will be using an unsupervised learning approach to find the sentences similarity and rank them.: 32\n",
            "Summarization can be defined as a task of producing a concise and fluent summary while preserving key information and overall meaning.: 20\n",
            "One benefit of this will be, you don’t need to train and build a model prior start using it for your project.: 22\n",
            "It’s good to understand Cosine similarity to make the best use of the code you are going to see.: 26\n",
            "Cosine similarity is a measure of similarity between two non-zero vectors of an inner product space that measures the cosine of the angle between them.: 29\n",
            "Its measures cosine of the angle between vectors.: 19\n",
            "The angle will be 0 if sentences are similar.: 14\n",
            "\n",
            "Sum of Sentence Values: 162\n"
          ]
        }
      ]
    },
    {
      "cell_type": "code",
      "source": [
        "# Average value of a sentence from the original text\n",
        "\n",
        "average = int(sumValues / len(sentenceValue))\n",
        "print(\"\\nAverage Value of a Sentence:\", average)\n",
        "\n",
        "# Storing sentences into our summary.\n",
        "summary = ''\n",
        "for sentence in sentences:\n",
        "    if (sentence in sentenceValue) and (sentenceValue[sentence] > (1.2 * average)):\n",
        "        summary += \" \" + sentence\n",
        "print(summary)"
      ],
      "metadata": {
        "colab": {
          "base_uri": "https://localhost:8080/"
        },
        "id": "JWvRj9xfvG0n",
        "outputId": "f840faaa-bf6a-48c6-d41b-23d718856182"
      },
      "execution_count": null,
      "outputs": [
        {
          "output_type": "stream",
          "name": "stdout",
          "text": [
            "\n",
            "Average Value of a Sentence: 23\n",
            " There are many techniques available to generate extractive summarization to keep it simple, I will be using an unsupervised learning approach to find the sentences similarity and rank them. Cosine similarity is a measure of similarity between two non-zero vectors of an inner product space that measures the cosine of the angle between them.\n"
          ]
        }
      ]
    }
  ]
}